{
 "cells": [
  {
   "attachments": {},
   "cell_type": "markdown",
   "metadata": {},
   "source": [
    "# Prediccion del indice S&P 500 mediante XGBOOST y el modelo GARCH"
   ]
  },
  {
   "cell_type": "code",
   "execution_count": 1,
   "metadata": {},
   "outputs": [],
   "source": [
    "# base\n",
    "import pandas as pd\n",
    "import numpy as np\n",
    "import math\n",
    "import datetime\n",
    "import datetime as dt\n",
    "import statsmodels.api as sms\n",
    "\n",
    "\n",
    "# importacion datos financieros\n",
    "import yfinance as yf\n",
    "\n",
    "#metricas de evaluacion \n",
    "\n",
    "from arch.unitroot import PhillipsPerron , KPSS , ADF\n",
    "from xgboost import plot_importance, plot_tree\n",
    "from sklearn.metrics import mean_squared_error,mean_absolute_error\n",
    "\n",
    "# Graficas\n",
    "from statsmodels.graphics.tsaplots import plot_acf, plot_pacf\n",
    "from plotly.subplots import make_subplots\n",
    "import matplotlib.ticker as ticker\n",
    "import matplotlib.pyplot as plt\n",
    "import plotly.express as px\n",
    "import plotly.graph_objects as go\n",
    "import seaborn as sns\n",
    "\n",
    "\n",
    "# Prediccion modelos GARCH\n",
    "from pmdarima import auto_arima\n",
    "import arch\n",
    "from arch import arch_model\n",
    "\n",
    "# Prediccion modelo XGBOOST\n",
    "import xgboost as xgb\n"
   ]
  },
  {
   "attachments": {},
   "cell_type": "markdown",
   "metadata": {},
   "source": [
    "# Lectura de datos"
   ]
  },
  {
   "cell_type": "code",
   "execution_count": 2,
   "metadata": {},
   "outputs": [
    {
     "name": "stdout",
     "output_type": "stream",
     "text": [
      "[*********************100%***********************]  1 of 1 completed\n"
     ]
    },
    {
     "data": {
      "text/html": [
       "<div>\n",
       "<style scoped>\n",
       "    .dataframe tbody tr th:only-of-type {\n",
       "        vertical-align: middle;\n",
       "    }\n",
       "\n",
       "    .dataframe tbody tr th {\n",
       "        vertical-align: top;\n",
       "    }\n",
       "\n",
       "    .dataframe thead th {\n",
       "        text-align: right;\n",
       "    }\n",
       "</style>\n",
       "<table border=\"1\" class=\"dataframe\">\n",
       "  <thead>\n",
       "    <tr style=\"text-align: right;\">\n",
       "      <th></th>\n",
       "      <th>Open</th>\n",
       "      <th>High</th>\n",
       "      <th>Low</th>\n",
       "      <th>Close</th>\n",
       "      <th>Adj Close</th>\n",
       "      <th>Volume</th>\n",
       "    </tr>\n",
       "    <tr>\n",
       "      <th>Date</th>\n",
       "      <th></th>\n",
       "      <th></th>\n",
       "      <th></th>\n",
       "      <th></th>\n",
       "      <th></th>\n",
       "      <th></th>\n",
       "    </tr>\n",
       "  </thead>\n",
       "  <tbody>\n",
       "    <tr>\n",
       "      <th>2021-01-04</th>\n",
       "      <td>3764.610107</td>\n",
       "      <td>3769.989990</td>\n",
       "      <td>3662.709961</td>\n",
       "      <td>3700.649902</td>\n",
       "      <td>3700.649902</td>\n",
       "      <td>5015000000</td>\n",
       "    </tr>\n",
       "    <tr>\n",
       "      <th>2021-01-05</th>\n",
       "      <td>3698.020020</td>\n",
       "      <td>3737.830078</td>\n",
       "      <td>3695.070068</td>\n",
       "      <td>3726.860107</td>\n",
       "      <td>3726.860107</td>\n",
       "      <td>4591020000</td>\n",
       "    </tr>\n",
       "    <tr>\n",
       "      <th>2021-01-06</th>\n",
       "      <td>3712.199951</td>\n",
       "      <td>3783.040039</td>\n",
       "      <td>3705.340088</td>\n",
       "      <td>3748.139893</td>\n",
       "      <td>3748.139893</td>\n",
       "      <td>6064110000</td>\n",
       "    </tr>\n",
       "    <tr>\n",
       "      <th>2021-01-07</th>\n",
       "      <td>3764.709961</td>\n",
       "      <td>3811.550049</td>\n",
       "      <td>3764.709961</td>\n",
       "      <td>3803.790039</td>\n",
       "      <td>3803.790039</td>\n",
       "      <td>5099160000</td>\n",
       "    </tr>\n",
       "    <tr>\n",
       "      <th>2021-01-08</th>\n",
       "      <td>3815.050049</td>\n",
       "      <td>3826.689941</td>\n",
       "      <td>3783.600098</td>\n",
       "      <td>3824.679932</td>\n",
       "      <td>3824.679932</td>\n",
       "      <td>4773040000</td>\n",
       "    </tr>\n",
       "  </tbody>\n",
       "</table>\n",
       "</div>"
      ],
      "text/plain": [
       "                   Open         High          Low        Close    Adj Close  \\\n",
       "Date                                                                          \n",
       "2021-01-04  3764.610107  3769.989990  3662.709961  3700.649902  3700.649902   \n",
       "2021-01-05  3698.020020  3737.830078  3695.070068  3726.860107  3726.860107   \n",
       "2021-01-06  3712.199951  3783.040039  3705.340088  3748.139893  3748.139893   \n",
       "2021-01-07  3764.709961  3811.550049  3764.709961  3803.790039  3803.790039   \n",
       "2021-01-08  3815.050049  3826.689941  3783.600098  3824.679932  3824.679932   \n",
       "\n",
       "                Volume  \n",
       "Date                    \n",
       "2021-01-04  5015000000  \n",
       "2021-01-05  4591020000  \n",
       "2021-01-06  6064110000  \n",
       "2021-01-07  5099160000  \n",
       "2021-01-08  4773040000  "
      ]
     },
     "execution_count": 2,
     "metadata": {},
     "output_type": "execute_result"
    }
   ],
   "source": [
    "data = yf.download(tickers = '^GSPC',start='2021-01-01',end='2023-10-05',interval='1d')\n",
    "data.head()"
   ]
  },
  {
   "cell_type": "code",
   "execution_count": 3,
   "metadata": {},
   "outputs": [
    {
     "name": "stdout",
     "output_type": "stream",
     "text": [
      "<class 'pandas.core.frame.DataFrame'>\n",
      "DatetimeIndex: 595 entries, 2021-01-04 to 2023-05-15\n",
      "Data columns (total 6 columns):\n",
      " #   Column     Non-Null Count  Dtype  \n",
      "---  ------     --------------  -----  \n",
      " 0   open       595 non-null    float64\n",
      " 1   high       595 non-null    float64\n",
      " 2   low        595 non-null    float64\n",
      " 3   close      595 non-null    float64\n",
      " 4   adj close  595 non-null    float64\n",
      " 5   volume     595 non-null    int64  \n",
      "dtypes: float64(5), int64(1)\n",
      "memory usage: 32.5 KB\n"
     ]
    }
   ],
   "source": [
    "data = data.rename(columns=str.lower)\n",
    "data.info()"
   ]
  },
  {
   "cell_type": "code",
   "execution_count": 4,
   "metadata": {},
   "outputs": [],
   "source": [
    "data['time'] = data.index"
   ]
  },
  {
   "cell_type": "code",
   "execution_count": 6,
   "metadata": {},
   "outputs": [
    {
     "data": {
      "text/html": [
       "<div>\n",
       "<style scoped>\n",
       "    .dataframe tbody tr th:only-of-type {\n",
       "        vertical-align: middle;\n",
       "    }\n",
       "\n",
       "    .dataframe tbody tr th {\n",
       "        vertical-align: top;\n",
       "    }\n",
       "\n",
       "    .dataframe thead th {\n",
       "        text-align: right;\n",
       "    }\n",
       "</style>\n",
       "<table border=\"1\" class=\"dataframe\">\n",
       "  <thead>\n",
       "    <tr style=\"text-align: right;\">\n",
       "      <th></th>\n",
       "      <th>close</th>\n",
       "    </tr>\n",
       "    <tr>\n",
       "      <th>Date</th>\n",
       "      <th></th>\n",
       "    </tr>\n",
       "  </thead>\n",
       "  <tbody>\n",
       "    <tr>\n",
       "      <th>2021-01-05</th>\n",
       "      <td>0.708260</td>\n",
       "    </tr>\n",
       "    <tr>\n",
       "      <th>2021-01-06</th>\n",
       "      <td>0.570984</td>\n",
       "    </tr>\n",
       "    <tr>\n",
       "      <th>2021-01-07</th>\n",
       "      <td>1.484740</td>\n",
       "    </tr>\n",
       "    <tr>\n",
       "      <th>2021-01-08</th>\n",
       "      <td>0.549186</td>\n",
       "    </tr>\n",
       "    <tr>\n",
       "      <th>2021-01-11</th>\n",
       "      <td>-0.655475</td>\n",
       "    </tr>\n",
       "  </tbody>\n",
       "</table>\n",
       "</div>"
      ],
      "text/plain": [
       "               close\n",
       "Date                \n",
       "2021-01-05  0.708260\n",
       "2021-01-06  0.570984\n",
       "2021-01-07  1.484740\n",
       "2021-01-08  0.549186\n",
       "2021-01-11 -0.655475"
      ]
     },
     "execution_count": 6,
     "metadata": {},
     "output_type": "execute_result"
    }
   ],
   "source": [
    "retornos = data[['close']].pct_change().dropna() * 100\n",
    "retornos.head()"
   ]
  }
 ],
 "metadata": {
  "kernelspec": {
   "display_name": "base",
   "language": "python",
   "name": "python3"
  },
  "language_info": {
   "codemirror_mode": {
    "name": "ipython",
    "version": 3
   },
   "file_extension": ".py",
   "mimetype": "text/x-python",
   "name": "python",
   "nbconvert_exporter": "python",
   "pygments_lexer": "ipython3",
   "version": "3.9.13"
  },
  "orig_nbformat": 4
 },
 "nbformat": 4,
 "nbformat_minor": 2
}
